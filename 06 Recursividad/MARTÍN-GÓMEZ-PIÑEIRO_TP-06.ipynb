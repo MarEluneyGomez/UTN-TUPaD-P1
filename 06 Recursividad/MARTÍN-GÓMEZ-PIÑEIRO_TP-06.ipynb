{
 "cells": [
  {
   "cell_type": "markdown",
   "id": "005b9d06",
   "metadata": {},
   "source": [
    "1) Crea una función recursiva que calcule el factorial de un número. Luego, utiliza esa función para calcular y mostrar en pantalla el factorial de todos los números enteros entre 1 y el número que indique el usuario."
   ]
  },
  {
   "cell_type": "code",
   "execution_count": 7,
   "id": "a03ba0e2",
   "metadata": {},
   "outputs": [
    {
     "name": "stdout",
     "output_type": "stream",
     "text": [
      "factorial de 0: 1\n",
      "factorial de 1: 1\n",
      "factorial de 2: 2\n",
      "factorial de 3: 6\n",
      "factorial de 4: 24\n",
      "factorial de 5: 120\n",
      "factorial de 6: 720\n",
      "factorial de 7: 5040\n",
      "factorial de 8: 40320\n",
      "factorial de 9: 362880\n"
     ]
    }
   ],
   "source": [
    "def factorial (num):\n",
    "    if num == 0:\n",
    "        return 1\n",
    "    else:\n",
    "        return num * factorial(num-1)\n",
    "\n",
    "\n",
    "num = int(input('Ingrese el número más alto del que desea calcular el factorial'))\n",
    "\n",
    "for i in range(num):\n",
    "    print(f'factorial de {i}: {factorial(i)}')"
   ]
  },
  {
   "cell_type": "markdown",
   "id": "6c782457",
   "metadata": {},
   "source": [
    "2) Crea una función recursiva que calcule el valor de la serie de Fibonacci en la posición  indicada. Posteriormente, muestra la serie completa hasta la posición que el usuario especifique. "
   ]
  },
  {
   "cell_type": "code",
   "execution_count": 19,
   "id": "7c7975e9",
   "metadata": {},
   "outputs": [
    {
     "name": "stdout",
     "output_type": "stream",
     "text": [
      "fibonacci para la posicion 0: 0\n",
      "fibonacci para la posicion 1: 1\n",
      "fibonacci para la posicion 2: 1\n",
      "fibonacci para la posicion 3: 2\n",
      "fibonacci para la posicion 4: 3\n",
      "fibonacci para la posicion 5: 5\n",
      "fibonacci para la posicion 6: 8\n",
      "fibonacci para la posicion 7: 13\n",
      "fibonacci para la posicion 8: 21\n",
      "fibonacci para la posicion 9: 34\n",
      "fibonacci para la posicion 10: 55\n",
      "fibonacci para la posicion 11: 89\n",
      "fibonacci para la posicion 12: 144\n",
      "fibonacci para la posicion 13: 233\n",
      "fibonacci para la posicion 14: 377\n",
      "fibonacci para la posicion 15: 610\n",
      "fibonacci para la posicion 16: 987\n",
      "fibonacci para la posicion 17: 1597\n",
      "fibonacci para la posicion 18: 2584\n"
     ]
    }
   ],
   "source": [
    "def fibonacci(pos):\n",
    "    if pos == 0:\n",
    "        return 0\n",
    "    if pos == 1:\n",
    "        return 1\n",
    "    else:\n",
    "        return fibonacci(pos-1) + fibonacci(pos-2)\n",
    "\n",
    "pos = int(input('Ingrese la posicion deseada a calcular'))\n",
    "\n",
    "for i in range(pos):\n",
    "    print(f'fibonacci para la posicion {i}: {fibonacci(i)}')\n",
    "\n",
    "\n"
   ]
  },
  {
   "cell_type": "markdown",
   "id": "1a1c8cd6",
   "metadata": {},
   "source": [
    "3) Crea una función recursiva que calcule la potencia de un número base elevado a un exponente, utilizando la fórmula 𝑛𝑚 = 𝑛 ∗ 𝑛(𝑚−1). Prueba esta función en un algoritmo general. "
   ]
  },
  {
   "cell_type": "code",
   "execution_count": 21,
   "id": "67ec3090",
   "metadata": {},
   "outputs": [
    {
     "name": "stdout",
     "output_type": "stream",
     "text": [
      "64\n"
     ]
    }
   ],
   "source": [
    "def potencia(base,exponente):\n",
    "    if exponente == 0:\n",
    "        return 1\n",
    "    if exponente == 1:\n",
    "        return base\n",
    "    else:\n",
    "        return base * (base **(exponente - 1))\n",
    "    \n",
    "print(potencia(2,6))"
   ]
  },
  {
   "cell_type": "markdown",
   "id": "b1e7f889",
   "metadata": {},
   "source": [
    "4) Crear una función recursiva en Python que reciba un número entero positivo en base decimal y devuelva su representación en binario como una cadena de texto. "
   ]
  },
  {
   "cell_type": "code",
   "execution_count": 23,
   "id": "feaede1f",
   "metadata": {},
   "outputs": [
    {
     "data": {
      "text/plain": [
       "'111101101'"
      ]
     },
     "execution_count": 23,
     "metadata": {},
     "output_type": "execute_result"
    }
   ],
   "source": [
    "def dec_a_bin(decimal):\n",
    "\n",
    "    if decimal <= 1:\n",
    "        return str(decimal)\n",
    "    else:\n",
    "\n",
    "        parte_entera = decimal // 2\n",
    "        binario = dec_a_bin(parte_entera)\n",
    "        resto = decimal % 2\n",
    "        return binario + str(resto)\n",
    "\n",
    "dec_a_bin(493)"
   ]
  },
  {
   "cell_type": "markdown",
   "id": "104c7a47",
   "metadata": {},
   "source": [
    "5) Implementá una función recursiva llamada es_palindromo(palabra) que reciba una cadena de texto sin espacios ni tildes, y devuelva True si es un palíndromo o False si no lo es. \n",
    "    Requisitos: \n",
    "La solución debe ser recursiva. \n",
    "No se debe usar [::-1] ni la función reversed()."
   ]
  },
  {
   "cell_type": "code",
   "execution_count": 25,
   "id": "2f7138e1",
   "metadata": {},
   "outputs": [
    {
     "data": {
      "text/plain": [
       "False"
      ]
     },
     "execution_count": 25,
     "metadata": {},
     "output_type": "execute_result"
    }
   ],
   "source": [
    "def es_palindromo(palabra):\n",
    "    if len(palabra) <= 1:\n",
    "        return True\n",
    "    else:\n",
    "        if palabra[0] == palabra[-1]:\n",
    "            return es_palindromo(palabra[1:-1])\n",
    "        else:\n",
    "            return False\n",
    "\n",
    "es_palindromo('pato')"
   ]
  },
  {
   "cell_type": "markdown",
   "id": "810e4ddf",
   "metadata": {},
   "source": [
    "6) Escribí una función recursiva en Python llamada suma_digitos(n) que reciba un número entero positivo y devuelva la suma de todos sus dígitos. \n",
    "    Restricciones: \n",
    "No se puede convertir el número a string. \n",
    "Usá operaciones matemáticas (%, //) y recursión. \n",
    "Ejemplos: \n",
    "suma_digitos(1234)   → 10  (1 + 2 + 3 + 4) \n",
    "suma_digitos(9)      → 9 \n",
    "suma_digitos(305)    → 8   (3 + 0 + 5)"
   ]
  },
  {
   "cell_type": "code",
   "execution_count": 30,
   "id": "38a4e7d5",
   "metadata": {},
   "outputs": [
    {
     "data": {
      "text/plain": [
       "6"
      ]
     },
     "execution_count": 30,
     "metadata": {},
     "output_type": "execute_result"
    }
   ],
   "source": [
    "def suma_digitos(n):\n",
    "    if n == 0:\n",
    "        return 0\n",
    "    else:\n",
    "        return n + suma_digitos(n-1)\n",
    "\n",
    "suma_digitos(3)"
   ]
  },
  {
   "cell_type": "markdown",
   "id": "8c6aaa15",
   "metadata": {},
   "source": [
    "7) Un niño está construyendo una pirámide con bloques. En el nivel más bajo coloca n bloques, en el siguiente nivel uno menos (n - 1), y así sucesivamente hasta llegar al último nivel con un solo bloque. \n",
    " \n",
    "Escribí una función recursiva contar_bloques(n) que reciba el número de bloques en el nivel más bajo y devuelva el total de bloques que necesita para construir toda la pirámide. \n",
    "\n",
    "Ejemplos: \n",
    "contar_bloques(1)   → 1         (1).\n",
    "contar_bloques(2)   → 3         (2 + 1).\n",
    "contar_bloques(4)   → 10        (4 + 3 + 2 + 1). "
   ]
  },
  {
   "cell_type": "code",
   "execution_count": 31,
   "id": "0e849eb9",
   "metadata": {},
   "outputs": [
    {
     "name": "stdout",
     "output_type": "stream",
     "text": [
      "55\n"
     ]
    }
   ],
   "source": [
    "def contar_bloques(n):\n",
    "    if n == 0:\n",
    "        return 0\n",
    "    else:\n",
    "        return n + contar_bloques(n-1)\n",
    "\n",
    "print(contar_bloques(10))"
   ]
  },
  {
   "cell_type": "markdown",
   "id": "b6051627",
   "metadata": {},
   "source": [
    "8) Escribí una función recursiva llamada contar_digito(numero, digito) que reciba un número entero positivo (numero) y un dígito (entre 0 y 9), y devuelva cuántas veces aparece ese dígito dentro del número. \n",
    "      \n",
    "      Ejemplos:\n",
    "contar_digito(12233421, 2)   → 3   \n",
    "contar_digito(5555, 5)       → 4   \n",
    "contar_digito(123456, 7)     → 0  "
   ]
  },
  {
   "cell_type": "code",
   "execution_count": 35,
   "id": "7e0b8592",
   "metadata": {},
   "outputs": [
    {
     "data": {
      "text/plain": [
       "3"
      ]
     },
     "execution_count": 35,
     "metadata": {},
     "output_type": "execute_result"
    }
   ],
   "source": [
    "def contar_digito(numero, digito):\n",
    "\n",
    "    if numero == 0:\n",
    "        return 0\n",
    "\n",
    "    ultimo = numero % 10\n",
    "\n",
    "    if ultimo == digito:\n",
    "        return 1 + contar_digito(numero // 10, digito)\n",
    "    else:\n",
    "        return contar_digito(numero // 10, digito)\n",
    "    \n",
    "contar_digito(444,4)"
   ]
  }
 ],
 "metadata": {
  "kernelspec": {
   "display_name": "base",
   "language": "python",
   "name": "python3"
  },
  "language_info": {
   "codemirror_mode": {
    "name": "ipython",
    "version": 3
   },
   "file_extension": ".py",
   "mimetype": "text/x-python",
   "name": "python",
   "nbconvert_exporter": "python",
   "pygments_lexer": "ipython3",
   "version": "3.12.7"
  }
 },
 "nbformat": 4,
 "nbformat_minor": 5
}
