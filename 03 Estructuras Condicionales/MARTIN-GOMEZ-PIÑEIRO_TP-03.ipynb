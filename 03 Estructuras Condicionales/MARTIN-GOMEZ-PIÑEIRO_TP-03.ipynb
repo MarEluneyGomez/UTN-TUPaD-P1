{
 "cells": [
  {
   "cell_type": "markdown",
   "id": "d81d12fa",
   "metadata": {},
   "source": [
    "1) Escribir un programa que solicite la edad del usuario. Si el usuario es mayor de 18 años, \n",
    "deberá mostrar un mensaje en pantalla que diga “Es mayor de edad”. "
   ]
  },
  {
   "cell_type": "code",
   "execution_count": 2,
   "id": "c08a5e60",
   "metadata": {},
   "outputs": [
    {
     "name": "stdout",
     "output_type": "stream",
     "text": [
      "Es menor de edad\n"
     ]
    }
   ],
   "source": [
    "edad_usuario = int(input('ingrese su edad'))\n",
    "\n",
    "if edad_usuario >= 18:\n",
    "    print('Es mayor de edad')\n",
    "else: \n",
    "    print('Es menor de edad')"
   ]
  },
  {
   "cell_type": "markdown",
   "id": "9b5c968e",
   "metadata": {},
   "source": [
    "2) Escribir un programa que solicite su nota al usuario. Si la nota es mayor o igual a 6, deberá \n",
    "mostrar por pantalla un mensaje que diga “Aprobado”; en caso contrario deberá mostrar el \n",
    "mensaje “Desaprobado”. "
   ]
  },
  {
   "cell_type": "code",
   "execution_count": 4,
   "id": "3f3d42d2",
   "metadata": {},
   "outputs": [
    {
     "name": "stdout",
     "output_type": "stream",
     "text": [
      "Aprobado\n"
     ]
    }
   ],
   "source": [
    "nota_usuario = int(input('Ingrese su nota'))\n",
    "if nota_usuario >= 6:\n",
    "    print('Aprobado')\n",
    "else:\n",
    "    print('Desaprobado')"
   ]
  },
  {
   "cell_type": "markdown",
   "id": "0a661260",
   "metadata": {},
   "source": [
    "3) Escribir un programa que permita ingresar solo números pares. Si el usuario ingresa un \n",
    "número par, imprimir por en pantalla el mensaje \"Ha ingresado un número par\"; en caso \n",
    "contrario, imprimir por pantalla \"Por favor, ingrese un número par\". Nota: investigar el uso del \n",
    "operador de módulo (%) en Python para evaluar si un número es par o impar."
   ]
  },
  {
   "cell_type": "code",
   "execution_count": 6,
   "id": "66f4b76e",
   "metadata": {},
   "outputs": [
    {
     "name": "stdout",
     "output_type": "stream",
     "text": [
      "Por favor, ingrese un número par\n",
      "Por favor, ingrese un número par\n",
      "Por favor, ingrese un número par\n",
      "Ha ingresado un número par\n"
     ]
    }
   ],
   "source": [
    "while True:\n",
    "    numero_usuario = int(input('Ingrese un número par: '))\n",
    "    \n",
    "    if numero_usuario % 2 == 0:\n",
    "        print('Ha ingresado un número par')\n",
    "        break  # Sale del bucle si el número es par\n",
    "    else:\n",
    "        print('Por favor, ingrese un número par')\n"
   ]
  },
  {
   "cell_type": "markdown",
   "id": "a9dd427e",
   "metadata": {},
   "source": [
    "4) Escribir un programa que solicite al usuario su edad e imprima por pantalla a cuál de las \n",
    "siguientes categorías pertenece: \n",
    "● Niño/a: menor de 12 años. \n",
    "● Adolescente: mayor o igual que 12 años y menor que 18 años. \n",
    "● Adulto/a joven: mayor o igual que 18 años y menor que 30 años. \n",
    "● Adulto/a: mayor o igual que 30 años. "
   ]
  },
  {
   "cell_type": "code",
   "execution_count": 8,
   "id": "6d648dc5",
   "metadata": {},
   "outputs": [
    {
     "name": "stdout",
     "output_type": "stream",
     "text": [
      "Usted es un joven adulto\n"
     ]
    }
   ],
   "source": [
    "edad_usuario = int(input('ingrese su edad'))\n",
    "\n",
    "if edad_usuario < 12:\n",
    "    print('Usted es un niño')\n",
    "elif 12 <= edad_usuario < 18:\n",
    "    print('Usted es un adolescente')\n",
    "elif 18 <= edad_usuario < 30:\n",
    "    print('Usted es un joven adulto')\n",
    "else: \n",
    "    print('Usted es un adulto')"
   ]
  },
  {
   "cell_type": "markdown",
   "id": "35e9692a",
   "metadata": {},
   "source": [
    "5) Escribir un programa que permita introducir contraseñas de entre 8 y 14 caracteres \n",
    "(incluyendo 8 y 14). Si el usuario ingresa una contraseña de longitud adecuada, imprimir por en \n",
    "pantalla el mensaje \"Ha ingresado una contraseña correcta\"; en caso contrario, imprimir por \n",
    "pantalla \"Por favor, ingrese una contraseña de entre 8 y 14 caracteres\". Nota: investigue el uso \n",
    "de la función len() en Python para evaluar la cantidad de elementos que tiene un iterable tal \n",
    "como una lista o un string. "
   ]
  },
  {
   "cell_type": "code",
   "execution_count": 12,
   "id": "f21c279d",
   "metadata": {},
   "outputs": [
    {
     "name": "stdout",
     "output_type": "stream",
     "text": [
      "Por favor, ingrese una contraseña de entre 8 y 14 caracteres\n"
     ]
    }
   ],
   "source": [
    "contraseña = input('ingrese su contraseña')\n",
    "\n",
    "if 8 <= len(contraseña) <= 14:\n",
    "    print('Ha ingrersado una contraseña correcta')\n",
    "else:\n",
    "    print('Por favor, ingrese una contraseña de entre 8 y 14 caracteres')"
   ]
  },
  {
   "attachments": {
    "image-2.png": {
     "image/png": "[encoded data removed]"
    },
    "image.png": {
     "image/png": "[encoded data removed]"
    }
   },
   "cell_type": "markdown",
   "id": "2b778832",
   "metadata": {},
   "source": [
    "6) El paquete statistics de python contiene funciones que permiten tomar una lista de números \n",
    "y calcular la moda, la mediana y la media de dichos números. Un ejemplo de su uso es el \n",
    "siguiente: \n",
    "\n",
    "![image-2.png](attachment:image-2.png)\n",
    "\n",
    "from statistics import mode, median, mean \n",
    "mi_lista = [1,2,5,5,3] \n",
    "mean(mi_lista) \n",
    "En la documentación oficial se puede encontrar más información sobre este paquete: \n",
    "https://docs.python.org/es/3.8/library/statistics.html.  \n",
    "La moda (mode), la mediana (median) y la media (mean) son parámetros estadísticos que se \n",
    "pueden utilizar para predecir la forma de una distribución normal a partir del siguiente criterio: \n",
    "● Sesgo positivo o a la derecha: cuando la media es mayor que la mediana y, a su vez, la \n",
    "mediana es mayor que la moda. \n",
    "● Sesgo negativo o a la izquierda: cuando la media es menor que la mediana y, a su vez, \n",
    "la mediana es menor que la moda. \n",
    "● Sin sesgo: cuando la media, la mediana y la moda son iguales. \n",
    "Teniendo en cuenta lo antes mencionado, escribir un programa que tome la lista \n",
    "numeros_aleatorios, calcule su moda, su mediana y su media y las compare para determinar si \n",
    "hay sesgo positivo, negativo o no hay sesgo. Imprimir el resultado por pantalla. \n",
    "Definir la lista numeros_aleatorios de la siguiente forma: \n",
    "\n",
    "![image.png](attachment:image.png)\n",
    "\n",
    "import random \n",
    "numeros_aleatorios = [random.randint(1, 100) for i in range(50)] \n",
    "Nota: el bloque de código anterior crea una lista con 50 números entre 1 y 100 elegidos de \n",
    "forma aleatoria. "
   ]
  },
  {
   "cell_type": "code",
   "execution_count": 32,
   "id": "735143e4",
   "metadata": {},
   "outputs": [
    {
     "name": "stdout",
     "output_type": "stream",
     "text": [
      "Sesgo negativo o a la izquierda\n"
     ]
    }
   ],
   "source": [
    "from statistics import mode, median, mean\n",
    "import random\n",
    "\n",
    "numeros_aleatorios = [random.randint(1, 100) for i in range(50)]\n",
    "\n",
    "moda = mode(numeros_aleatorios)\n",
    "mediana = median(numeros_aleatorios)\n",
    "media = mean(numeros_aleatorios)\n",
    "\n",
    "if moda < mediana < media:\n",
    "    print('Sesgo positivo o a la derecha')\n",
    "elif media < mediana < moda:\n",
    "    print('Sesgo negativo o a la izquierda')\n",
    "elif moda == media == mediana:\n",
    "    print('Sin sesgo')\n",
    "else:\n",
    "    print('Sin sesgo claro')"
   ]
  },
  {
   "cell_type": "markdown",
   "id": "55dda196",
   "metadata": {},
   "source": [
    "7) Escribir un programa que solicite una frase o palabra al usuario. Si el string ingresado \n",
    "termina con vocal, añadir un signo de exclamación al final e imprimir el string resultante por \n",
    "pantalla; en caso contrario, dejar el string tal cual lo ingresó el usuario e imprimirlo por \n",
    "pantalla. "
   ]
  },
  {
   "cell_type": "code",
   "execution_count": 36,
   "id": "6b428955",
   "metadata": {},
   "outputs": [
    {
     "name": "stdout",
     "output_type": "stream",
     "text": [
      "maraca!\n"
     ]
    }
   ],
   "source": [
    "frase_usuario = input('Ingrese una frase o palabra')\n",
    "\n",
    "if frase_usuario[-1].lower() in ['a','e','i','o','u']:\n",
    "    frase_usuario += '!'\n",
    "    print(frase_usuario)\n",
    "else:\n",
    "    print(frase_usuario)"
   ]
  },
  {
   "cell_type": "markdown",
   "id": "2d62ae8c",
   "metadata": {},
   "source": [
    "8) Escribir un programa que solicite al usuario que ingrese su nombre y el número 1, 2 o 3 \n",
    "dependiendo de la opción que desee: \n",
    "1. Si quiere su nombre en mayúsculas. Por ejemplo: PEDRO. \n",
    "2. Si quiere su nombre en minúsculas. Por ejemplo: pedro. \n",
    "3. Si quiere su nombre con la primera letra mayúscula. Por ejemplo: Pedro. \n",
    "El programa debe transformar el nombre ingresado de acuerdo a la opción seleccionada por el \n",
    "usuario e imprimir el resultado por pantalla. Nota: investigue uso de las funciones upper(), \n",
    "lower() y title() de Python para convertir entre mayúsculas y minúsculas."
   ]
  },
  {
   "cell_type": "code",
   "execution_count": 5,
   "id": "8943cabc",
   "metadata": {},
   "outputs": [
    {
     "name": "stdout",
     "output_type": "stream",
     "text": [
      "Elija una opcion\n",
      "1. Si quiere su nombre en mayúsculas.\n",
      "2. Si quiere su nombre en minúsculas.\n",
      "3. Si quiere su nombre con la primera letra mayúscula.\n",
      "MARTIN\n"
     ]
    }
   ],
   "source": [
    "nombre_usuario = input('ingrese su nombre')\n",
    "\n",
    "print('Elija una opcion')\n",
    "print('1. Si quiere su nombre en mayúsculas.')\n",
    "print('2. Si quiere su nombre en minúsculas.')\n",
    "print('3. Si quiere su nombre con la primera letra mayúscula.')\n",
    "opcion_usuario = int(input('Ingrese su opcion'))\n",
    "\n",
    "if opcion_usuario == 1:\n",
    "    print(nombre_usuario.upper())\n",
    "\n",
    "elif opcion_usuario == 2:\n",
    "    print(nombre_usuario.lower())\n",
    "\n",
    "elif opcion_usuario == 3:\n",
    "    print(nombre_usuario.title())\n",
    "\n",
    "else:\n",
    "    print('Opcion incorrecta vuelva a intentarlo')\n"
   ]
  },
  {
   "cell_type": "markdown",
   "id": "6599573f",
   "metadata": {},
   "source": [
    "9) Escribir un programa que pida al usuario la magnitud de un terremoto, clasifique la \n",
    "magnitud en una de las siguientes categorías según la escala de Richter e imprima el resultado \n",
    "por pantalla: \n",
    "● Menor que 3: \"Muy leve\" (imperceptible). \n",
    "● Mayor o igual que 3  y menor que 4: \"Leve\" (ligeramente perceptible). \n",
    "● Mayor o igual que 4  y menor que 5: \"Moderado\" (sentido por personas, pero \n",
    "generalmente no causa daños). \n",
    "● Mayor o igual que 5  y menor que 6: \"Fuerte\" (puede causar daños en estructuras \n",
    "débiles). \n",
    "● Mayor o igual que 6  y menor que 7: \"Muy Fuerte\" (puede causar daños significativos). \n",
    "● Mayor o igual que 7: \"Extremo\" (puede causar graves daños a gran escala). "
   ]
  },
  {
   "cell_type": "code",
   "execution_count": 6,
   "id": "7450eb6c",
   "metadata": {},
   "outputs": [
    {
     "name": "stdout",
     "output_type": "stream",
     "text": [
      "Extremo (puede causar graves daños a gran escala)\n"
     ]
    }
   ],
   "source": [
    "magnitud_terremoto = float(input('Ingrese la magnitud del terremoto'))\n",
    "\n",
    "if magnitud_terremoto < 3:\n",
    "    print('Muy leve (Imperseptible)')\n",
    "elif 3 <= magnitud_terremoto < 4:\n",
    "    print('Leve (ligeramente perceptible)')\n",
    "elif 4 <= magnitud_terremoto < 5:\n",
    "    print('Moderado (sentido por personas, pero generalmente no causa daños)')\n",
    "elif 5 <= magnitud_terremoto < 6:\n",
    "    print('Fuerte (puede causar daños en estructuras débiles)')\n",
    "elif 6 <= magnitud_terremoto < 7:\n",
    "    print('Muy Fuerte (puede causar daños significativos)')\n",
    "elif 7 <= magnitud_terremoto:\n",
    "    print('Extremo (puede causar graves daños a gran escala)')\n"
   ]
  },
  {
   "attachments": {
    "image.png": {
     "image/png": "[encoded data removed]"
    }
   },
   "cell_type": "markdown",
   "id": "67ba724a",
   "metadata": {},
   "source": [
    "10) Utilizando la información aportada en la siguiente tabla sobre las estaciones del año \n",
    "\n",
    "![image.png](attachment:image.png)\n",
    "\n",
    "Escribir un programa que pregunte al usuario en cuál hemisferio se encuentra (N/S), qué mes \n",
    "del año es y qué día es. El programa deberá utilizar esa información para imprimir por pantalla \n",
    "si el usuario se encuentra en otoño, invierno, primavera o verano. "
   ]
  },
  {
   "cell_type": "code",
   "execution_count": 7,
   "id": "03024c77",
   "metadata": {},
   "outputs": [
    {
     "name": "stdout",
     "output_type": "stream",
     "text": [
      "Otoño\n"
     ]
    }
   ],
   "source": [
    "\n",
    "hemisferio = input(\"Ingrese el hemisferio (N/S): \").upper()\n",
    "mes = input(\"Ingrese el mes: \").lower()\n",
    "dia = int(input(\"Ingrese el día: \"))\n",
    "\n",
    "\n",
    "if hemisferio == 'N':\n",
    "    if (mes == 'diciembre' and dia >= 21) or mes in ['enero', 'febrero'] or (mes == 'marzo' and dia <= 20):\n",
    "        print('Invierno')\n",
    "    elif (mes == 'marzo' and dia >= 21) or mes in ['abril', 'mayo'] or (mes == 'junio' and dia <= 20):\n",
    "        print('Primavera')\n",
    "    elif (mes == 'junio' and dia >= 21) or mes in ['julio', 'agosto'] or (mes == 'septiembre' and dia <= 22):\n",
    "        print('Verano')\n",
    "    elif (mes == 'septiembre' and dia >= 23) or mes in ['octubre', 'noviembre'] or (mes == 'diciembre' and dia <= 20):\n",
    "        print('Otoño')\n",
    "    else:\n",
    "        print('Fecha inválida.')\n",
    "\n",
    "elif hemisferio == 'S':\n",
    "    if (mes == 'junio' and dia >= 21) or mes in ['julio', 'agosto'] or (mes == 'septiembre' and dia <= 22):\n",
    "        print('Invierno')\n",
    "    elif (mes == 'septiembre' and dia >= 23) or mes in ['octubre', 'noviembre'] or (mes == 'diciembre' and dia <= 20):\n",
    "        print('Primavera')\n",
    "    elif (mes == 'diciembre' and dia >= 21) or mes in ['enero', 'febrero'] or (mes == 'marzo' and dia <= 20):\n",
    "        print('Verano')\n",
    "    elif (mes == 'marzo' and dia >= 21) or mes in ['abril', 'mayo'] or (mes == 'junio' and dia <= 20):\n",
    "        print('Otoño')\n",
    "    else:\n",
    "        print('Fecha inválida.')\n",
    "else:\n",
    "    print('Hemisferio inválido. Use N o S.')"
   ]
  }
 ],
 "metadata": {
  "kernelspec": {
   "display_name": "Python 3",
   "language": "python",
   "name": "python3"
  },
  "language_info": {
   "codemirror_mode": {
    "name": "ipython",
    "version": 3
   },
   "file_extension": ".py",
   "mimetype": "text/x-python",
   "name": "python",
   "nbconvert_exporter": "python",
   "pygments_lexer": "ipython3",
   "version": "3.12.2"
  }
 },
 "nbformat": 4,
 "nbformat_minor": 5
}
