{
 "cells": [
  {
   "cell_type": "markdown",
   "metadata": {},
   "source": [
    "Programacion 1\n",
    "\n",
    "Martín Eluney Gómez Piñeiro\n",
    "\n",
    "Practico 1: Estructuras secuenciales"
   ]
  },
  {
   "cell_type": "markdown",
   "metadata": {},
   "source": [
    "1- Crear un programa que imprima por pantalla el mensaje 'Hola Mundo!'"
   ]
  },
  {
   "cell_type": "code",
   "execution_count": 4,
   "metadata": {},
   "outputs": [
    {
     "name": "stdout",
     "output_type": "stream",
     "text": [
      "Hola Mundo!\n"
     ]
    }
   ],
   "source": [
    "def hola_mundo():\n",
    "    return print ('Hola Mundo!')\n",
    "\n",
    "hola_mundo()"
   ]
  },
  {
   "cell_type": "markdown",
   "metadata": {},
   "source": [
    "2) Crear un programa que pida al usuario su nombre e imprima por pantalla un saludo usando el nombre ingresado. Por ejemplo: si el usuario ingresa “Marcos”, el programa debe imprimir por pantalla “Hola Marcos!”. Consejo: esto será más sencillo si utilizas print(f…) para realizar la impresión por pantalla."
   ]
  },
  {
   "cell_type": "code",
   "execution_count": 6,
   "metadata": {},
   "outputs": [
    {
     "name": "stdout",
     "output_type": "stream",
     "text": [
      "Hola Martin!\n"
     ]
    }
   ],
   "source": [
    "def saludo_a_usuario():\n",
    "    nombre = input('Ingrese su nombre')\n",
    "    return print(f'Hola {nombre}!')\n",
    "\n",
    "saludo_a_usuario()"
   ]
  },
  {
   "cell_type": "markdown",
   "metadata": {},
   "source": [
    "3) Crear un programa que pida al usuario su nombre, apellido, edad y lugar de residencia e \n",
    "imprima por pantalla una oración con los datos ingresados. Por ejemplo: si el usuario ingresa \n",
    "“Marcos”, “Pérez”, “30” y “Argentina”, el programa debe imprimir “Soy Marcos Pérez, tengo 30 \n",
    "años y vivo en Argentina”. Consejo: esto será más sencillo si utilizas print(f…) para realizar \n",
    "la impresión por pantalla. "
   ]
  },
  {
   "cell_type": "code",
   "execution_count": 9,
   "metadata": {},
   "outputs": [
    {
     "name": "stdout",
     "output_type": "stream",
     "text": [
      "Soy martin gomez, tengo 24 años y vivo en Argentina\n"
     ]
    }
   ],
   "source": [
    "def informacion_usuario():\n",
    "    nombre = input('Ingrese su nombre')\n",
    "    apellido = input('Ingrese su apellido')\n",
    "    edad = input('ingrese su edad')\n",
    "    reasidencia = input('Ingrese su lugar de residencia')\n",
    "    return print(f'Soy {nombre} {apellido}, tengo {edad} años y vivo en {reasidencia}')\n",
    "\n",
    "informacion_usuario()"
   ]
  },
  {
   "cell_type": "markdown",
   "metadata": {},
   "source": [
    "4) Crear un programa que pida al usuario el radio de un círculo e imprima por pantalla su área y su perímetro. "
   ]
  },
  {
   "cell_type": "code",
   "execution_count": 21,
   "metadata": {},
   "outputs": [
    {
     "name": "stdout",
     "output_type": "stream",
     "text": [
      "El area del circulo es 2827.4333882308138 y el perimetro 188.49555921538757\n"
     ]
    }
   ],
   "source": [
    "import math\n",
    "def area_y_perimetro():\n",
    "    radio = input('Ingrese el perimetro del circulo')\n",
    "    area = math.pi * (float(radio)**2)\n",
    "    perimetro = 2 * math.pi * float(radio)\n",
    "    return print(f'El area del circulo es {area} y el perimetro {perimetro}')\n",
    "\n",
    "area_y_perimetro()"
   ]
  },
  {
   "cell_type": "markdown",
   "metadata": {},
   "source": [
    "5) Crear un programa que pida al usuario una cantidad de segundos e imprima por pantalla a cuántas horas equivale. "
   ]
  },
  {
   "cell_type": "code",
   "execution_count": null,
   "metadata": {},
   "outputs": [
    {
     "data": {
      "text/plain": [
       "3600"
      ]
     },
     "execution_count": 11,
     "metadata": {},
     "output_type": "execute_result"
    }
   ],
   "source": [
    "def segundos_a_hora():\n",
    "    segundo = input('ingrese la cantidad de segundos que desea convertir')\n",
    "    hora = int(segundo)/(60**2)\n",
    "    return print(f'{segundo} segundos equivalen a {hora} horas')\n",
    "\n",
    "segundos_a_hora()"
   ]
  },
  {
   "cell_type": "markdown",
   "metadata": {},
   "source": [
    "6) Crear un programa que pida al usuario un número e imprima por pantalla la tabla de multiplicar de dicho número.  "
   ]
  },
  {
   "cell_type": "code",
   "execution_count": 5,
   "metadata": {},
   "outputs": [
    {
     "name": "stdout",
     "output_type": "stream",
     "text": [
      "1 x 11 = 11\n",
      "2 x 11 = 22\n",
      "3 x 11 = 33\n",
      "4 x 11 = 44\n",
      "5 x 11 = 55\n",
      "6 x 11 = 66\n",
      "7 x 11 = 77\n",
      "8 x 11 = 88\n",
      "9 x 11 = 99\n",
      "10 x 11 = 110\n"
     ]
    }
   ],
   "source": [
    "def tabla_mutiplicar():\n",
    "    numero = input('Ingrese el número deseado')\n",
    "    for i in range(0,10):\n",
    "        i+=1\n",
    "        tabla = i*int(numero)\n",
    "        print(f'{i} x {numero} = {tabla}')\n",
    "    return\n",
    "tabla_mutiplicar()"
   ]
  },
  {
   "cell_type": "markdown",
   "metadata": {},
   "source": [
    "7) Crear un programa que pida al usuario dos números enteros distintos del 0 y muestre por pantalla el resultado de sumarlos, dividirlos, multiplicarlos y restarlos. "
   ]
  },
  {
   "cell_type": "code",
   "execution_count": 8,
   "metadata": {},
   "outputs": [
    {
     "name": "stdout",
     "output_type": "stream",
     "text": [
      "el numero ingresado es 0, porfavor ingrese un numero distinto de 0\n",
      "1 + 2 = 3\n",
      "1 - 2 = -1\n",
      "2 - 1 = 1\n",
      "1 x 2 = 0.5\n",
      "2 x 1 = 2.0\n",
      "1 x 2 = 2\n"
     ]
    }
   ],
   "source": [
    "def suma_de_numeros():\n",
    "    numero1 = input('Ingrese un número distinto a 0')\n",
    "    if int(numero1) == 0:\n",
    "        print('el numero ingresado es 0, porfavor ingrese un numero distinto de 0')\n",
    "        numero1 = input('Ingrese un número distinto a 0')\n",
    "\n",
    "    numero2 = input('Ingrese un número distinto a 0')\n",
    "    if int(numero2) == 0:\n",
    "        print('el numero ingresado es 0, porfavor ingrese un numero distinto de 0')\n",
    "        numero2 = input('Ingrese un número distinto a 0')\n",
    "\n",
    "    suma = int(numero1) + int(numero2)\n",
    "    multiplicacion = int(numero1) * int(numero2)\n",
    "    division_1_2 = int(numero1) / int(numero2)\n",
    "    division_2_1 = int(numero2) / int(numero1)\n",
    "    resta_1_2 = int(numero1) - int(numero2)\n",
    "    resta_2_1 = int(numero2) - int(numero1)\n",
    "    \n",
    "    print(f'{numero1} + {numero2} = {suma}')\n",
    "    print(f'{numero1} - {numero2} = {resta_1_2}')\n",
    "    print(f'{numero2} - {numero1} = {resta_2_1}')\n",
    "    print(f'{numero1} x {numero2} = {division_1_2}')\n",
    "    print(f'{numero2} x {numero1} = {division_2_1}')\n",
    "    print(f'{numero1} x {numero2} = {multiplicacion}')\n",
    "    return\n",
    "\n",
    "suma_de_numeros()"
   ]
  },
  {
   "cell_type": "markdown",
   "metadata": {},
   "source": [
    "8) Crear un programa que pida al usuario su altura y su peso e imprima por pantalla su índice de masa corporal. Tener en cuenta que el índice de masa corporal se calcula del siguiente modo:  \n",
    "\n",
    "I𝑀𝐶 = 𝑝𝑒𝑠𝑜 𝑒𝑛 𝑘𝑔/(𝑎𝑙𝑡𝑢𝑟𝑎 𝑒𝑛 𝑚)2"
   ]
  },
  {
   "cell_type": "code",
   "execution_count": 11,
   "metadata": {},
   "outputs": [
    {
     "name": "stdout",
     "output_type": "stream",
     "text": [
      "su indice de masa corporal es 637200.0\n"
     ]
    }
   ],
   "source": [
    "def indice_masa_corporal():\n",
    "    altura = input('Ingrese su altura en m')\n",
    "    peso = input('ingrese su peso en kg')\n",
    "\n",
    "    imc = float(peso)*(float(altura)**2)\n",
    "\n",
    "    return print(f'su indice de masa corporal es {imc}')\n",
    "indice_masa_corporal()"
   ]
  },
  {
   "cell_type": "markdown",
   "metadata": {},
   "source": [
    "9) Crear un programa que pida al usuario una temperatura en grados Celsius e imprima por pantalla su equivalente en grados Fahrenheit. Tener en cuenta la siguiente equivalencia: \n",
    "\n",
    "T𝑒𝑚𝑝𝑒𝑟𝑎𝑡𝑢𝑟𝑎 𝑒𝑛 𝐹𝑎ℎ𝑟𝑒𝑛ℎ𝑒𝑖𝑡 = 9/5 x 𝑇𝑒𝑚𝑝𝑒𝑟𝑎𝑡𝑢𝑟𝑎 𝑒𝑛 𝐶𝑒𝑙𝑠𝑖𝑢𝑠 + 32"
   ]
  },
  {
   "cell_type": "code",
   "execution_count": 12,
   "metadata": {},
   "outputs": [
    {
     "name": "stdout",
     "output_type": "stream",
     "text": [
      "la temperatura en Fahrenheit es 93.2\n"
     ]
    }
   ],
   "source": [
    "def celcius_a_fahrenheit():\n",
    "    c = input('ingrese la temperatura en grados celcius')\n",
    "    f = (9/5) * float(c) + 32 \n",
    "    return print(f'la temperatura en Fahrenheit es {f}')\n",
    "\n",
    "celcius_a_fahrenheit()"
   ]
  },
  {
   "cell_type": "markdown",
   "metadata": {},
   "source": [
    "10) Crear un programa que pida al usuario  3 números e imprima por pantalla el promedio de dichos números. "
   ]
  },
  {
   "cell_type": "code",
   "execution_count": 14,
   "metadata": {},
   "outputs": [
    {
     "name": "stdout",
     "output_type": "stream",
     "text": [
      "El promedio es 2.0\n"
     ]
    }
   ],
   "source": [
    "def promedio():\n",
    "    num1 = input('Ingrese un numero')\n",
    "    num2 = input('Ingrese un numero')\n",
    "    num3 = input('Ingrese un numero')\n",
    "    promedio = (int(num1) + int(num2) + int(num3)) / 3\n",
    "    \n",
    "    return print(f'El promedio es {promedio}')\n",
    "\n",
    "promedio()"
   ]
  },
  {
   "cell_type": "code",
   "execution_count": null,
   "metadata": {},
   "outputs": [],
   "source": []
  }
 ],
 "metadata": {
  "kernelspec": {
   "display_name": "base",
   "language": "python",
   "name": "python3"
  },
  "language_info": {
   "codemirror_mode": {
    "name": "ipython",
    "version": 3
   },
   "file_extension": ".py",
   "mimetype": "text/x-python",
   "name": "python",
   "nbconvert_exporter": "python",
   "pygments_lexer": "ipython3",
   "version": "3.11.7"
  }
 },
 "nbformat": 4,
 "nbformat_minor": 2
}
