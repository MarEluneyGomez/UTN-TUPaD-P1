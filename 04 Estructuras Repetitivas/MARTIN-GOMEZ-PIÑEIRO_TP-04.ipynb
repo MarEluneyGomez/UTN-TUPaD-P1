{
 "cells": [
  {
   "cell_type": "markdown",
   "id": "28bf5981",
   "metadata": {},
   "source": [
    "1) Crea un programa que imprima en pantalla todos los números enteros desde 0 hasta 100 \n",
    "(incluyendo ambos extremos), en orden creciente, mostrando un número por línea."
   ]
  },
  {
   "cell_type": "code",
   "execution_count": 1,
   "id": "51fda518",
   "metadata": {},
   "outputs": [
    {
     "name": "stdout",
     "output_type": "stream",
     "text": [
      "0\n",
      "1\n",
      "2\n",
      "3\n",
      "4\n",
      "5\n",
      "6\n",
      "7\n",
      "8\n",
      "9\n",
      "10\n",
      "11\n",
      "12\n",
      "13\n",
      "14\n",
      "15\n",
      "16\n",
      "17\n",
      "18\n",
      "19\n",
      "20\n",
      "21\n",
      "22\n",
      "23\n",
      "24\n",
      "25\n",
      "26\n",
      "27\n",
      "28\n",
      "29\n",
      "30\n",
      "31\n",
      "32\n",
      "33\n",
      "34\n",
      "35\n",
      "36\n",
      "37\n",
      "38\n",
      "39\n",
      "40\n",
      "41\n",
      "42\n",
      "43\n",
      "44\n",
      "45\n",
      "46\n",
      "47\n",
      "48\n",
      "49\n",
      "50\n",
      "51\n",
      "52\n",
      "53\n",
      "54\n",
      "55\n",
      "56\n",
      "57\n",
      "58\n",
      "59\n",
      "60\n",
      "61\n",
      "62\n",
      "63\n",
      "64\n",
      "65\n",
      "66\n",
      "67\n",
      "68\n",
      "69\n",
      "70\n",
      "71\n",
      "72\n",
      "73\n",
      "74\n",
      "75\n",
      "76\n",
      "77\n",
      "78\n",
      "79\n",
      "80\n",
      "81\n",
      "82\n",
      "83\n",
      "84\n",
      "85\n",
      "86\n",
      "87\n",
      "88\n",
      "89\n",
      "90\n",
      "91\n",
      "92\n",
      "93\n",
      "94\n",
      "95\n",
      "96\n",
      "97\n",
      "98\n",
      "99\n",
      "100\n"
     ]
    }
   ],
   "source": [
    "for i in range(0,101):\n",
    "    print(i)"
   ]
  },
  {
   "cell_type": "markdown",
   "id": "8bfa301e",
   "metadata": {},
   "source": [
    "2) Desarrolla un programa que solicite al usuario un número entero y determine la cantidad de \n",
    "dígitos que contiene. "
   ]
  },
  {
   "cell_type": "code",
   "execution_count": 3,
   "id": "45a76e58",
   "metadata": {},
   "outputs": [
    {
     "name": "stdout",
     "output_type": "stream",
     "text": [
      "su numero tiene 2 digitos\n"
     ]
    }
   ],
   "source": [
    "numero = input('ingrese un numero entero')\n",
    "print(f'su numero tiene {len(numero)} digitos')"
   ]
  },
  {
   "cell_type": "markdown",
   "id": "258f67b0",
   "metadata": {},
   "source": [
    "3) Escribe un programa que sume todos los números enteros comprendidos entre dos valores \n",
    "dados por el usuario, excluyendo esos dos valores. "
   ]
  },
  {
   "cell_type": "code",
   "execution_count": 7,
   "id": "43050bee",
   "metadata": {},
   "outputs": [
    {
     "name": "stdout",
     "output_type": "stream",
     "text": [
      "4\n",
      "5\n"
     ]
    }
   ],
   "source": [
    "numero_1 = int(input('ingrese un numero'))\n",
    "numero_2 = int(input('ingrese otro numero'))\n",
    "\n",
    "if numero_1 < numero_2:\n",
    "    numero_1 +=1\n",
    "    for i in range(numero_1, numero_2):\n",
    "        print(i)\n",
    "\n",
    "elif numero_2 < numero_1:\n",
    "    numero_2 += 1\n",
    "    for i in range(numero_2, numero_1):\n",
    "        print(i)\n",
    "\n",
    "else:\n",
    "    print('los numeros son iguales')"
   ]
  },
  {
   "cell_type": "markdown",
   "id": "a6a8ec88",
   "metadata": {},
   "source": [
    "4) Elabora un programa que permita al usuario ingresar números enteros y los sume en \n",
    "secuencia. El programa debe detenerse y mostrar el total acumulado cuando el usuario ingrese \n",
    "un 0. "
   ]
  },
  {
   "cell_type": "code",
   "execution_count": 10,
   "id": "f7b8c3e5",
   "metadata": {},
   "outputs": [
    {
     "name": "stdout",
     "output_type": "stream",
     "text": [
      "44\n"
     ]
    }
   ],
   "source": [
    "suma = 0\n",
    "num = int(input('ingrese un numero'))\n",
    "\n",
    "while num != 0:\n",
    "    num = int(input('ingrese un numero'))\n",
    "    suma += num\n",
    "print(suma)"
   ]
  },
  {
   "cell_type": "markdown",
   "id": "9fd04c8f",
   "metadata": {},
   "source": [
    "5) Crea un juego en el que el usuario deba adivinar un número aleatorio entre 0 y 9. Al final, el \n",
    "programa debe mostrar cuántos intentos fueron necesarios para acertar el número. "
   ]
  },
  {
   "cell_type": "code",
   "execution_count": 16,
   "id": "bfd988b1",
   "metadata": {},
   "outputs": [
    {
     "name": "stdout",
     "output_type": "stream",
     "text": [
      "numero incorrecto\n",
      "Correcto, ha adivinado en 2 intentos\n"
     ]
    }
   ],
   "source": [
    "import random\n",
    "\n",
    "num_random = random.randint(0,9)\n",
    "\n",
    "intentos = 1\n",
    "\n",
    "num_usuario = int(input('Ingrese un número entre 0 y 9'))\n",
    "\n",
    "while num_random == num_usuario:\n",
    "    print('numero incorrecto')\n",
    "    intentos += 1\n",
    "    num_usuario = int(input('Ingrese un número entre 0 y 9'))\n",
    "\n",
    "print(f'Correcto, ha adivinado en {intentos} intentos')"
   ]
  },
  {
   "cell_type": "markdown",
   "id": "bd745e47",
   "metadata": {},
   "source": [
    "6) Desarrolla un programa que imprima en pantalla todos los números pares comprendidos \n",
    "entre 0 y 100, en orden decreciente. "
   ]
  },
  {
   "cell_type": "code",
   "execution_count": 17,
   "id": "384d98da",
   "metadata": {},
   "outputs": [
    {
     "name": "stdout",
     "output_type": "stream",
     "text": [
      "0\n",
      "2\n",
      "4\n",
      "6\n",
      "8\n",
      "10\n",
      "12\n",
      "14\n",
      "16\n",
      "18\n",
      "20\n",
      "22\n",
      "24\n",
      "26\n",
      "28\n",
      "30\n",
      "32\n",
      "34\n",
      "36\n",
      "38\n",
      "40\n",
      "42\n",
      "44\n",
      "46\n",
      "48\n",
      "50\n",
      "52\n",
      "54\n",
      "56\n",
      "58\n",
      "60\n",
      "62\n",
      "64\n",
      "66\n",
      "68\n",
      "70\n",
      "72\n",
      "74\n",
      "76\n",
      "78\n",
      "80\n",
      "82\n",
      "84\n",
      "86\n",
      "88\n",
      "90\n",
      "92\n",
      "94\n",
      "96\n",
      "98\n",
      "100\n"
     ]
    }
   ],
   "source": [
    "for i in range(0,101):\n",
    "    if (i % 2) == 0:\n",
    "        print(i)\n",
    "    else:\n",
    "        pass"
   ]
  },
  {
   "cell_type": "markdown",
   "id": "9cbd5668",
   "metadata": {},
   "source": [
    "7) Crea un programa que calcule la suma de todos los números comprendidos entre 0 y un \n",
    "número entero positivo indicado por el usuario. "
   ]
  },
  {
   "cell_type": "code",
   "execution_count": 22,
   "id": "38100fbb",
   "metadata": {},
   "outputs": [
    {
     "name": "stdout",
     "output_type": "stream",
     "text": [
      "300\n"
     ]
    }
   ],
   "source": [
    "num_usuario = int(input('Ingrese un numero entero'))\n",
    "suma = 0\n",
    "\n",
    "for i in range(0,(num_usuario+1)):\n",
    "    suma += i\n",
    "\n",
    "print(suma)"
   ]
  },
  {
   "cell_type": "markdown",
   "id": "d09dcacb",
   "metadata": {},
   "source": [
    "8) Escribe un programa que permita al usuario ingresar 100 números enteros. Luego, el \n",
    "programa debe indicar cuántos de estos números son pares, cuántos son impares, cuántos son \n",
    "negativos y cuántos son positivos. (Nota: para probar el programa puedes usar una cantidad \n",
    "menor, pero debe estar preparado para procesar 100 números con un solo cambio). "
   ]
  },
  {
   "cell_type": "code",
   "execution_count": null,
   "id": "9fda9713",
   "metadata": {},
   "outputs": [],
   "source": [
    "numeros_pares = 0\n",
    "numeros_impares = 0\n",
    "numeros_negativos = 0\n",
    "numeros_positivos = 0\n",
    "\n",
    "for i in range(0,100):\n",
    "    num_usuario = int(input('Ingrese un número'))\n",
    "    if (num_usuario % 2) == 0:\n",
    "        numeros_pares += 1\n",
    "    elif (num_usuario % 2) != 0:\n",
    "        numeros_impares += 1\n",
    "    if num_usuario < 0:\n",
    "        numeros_negativos += 1\n",
    "    elif numeros_impares > 0:\n",
    "        numeros_positivos += 1\n",
    "\n",
    "print(f'ha ingresado {numeros_positivos} positivos, {numeros_negativos} negativos, {numeros_pares} pares y {numeros_impares} impares')"
   ]
  },
  {
   "cell_type": "markdown",
   "id": "7989bd2a",
   "metadata": {},
   "source": [
    "9) Elabora un programa que permita al usuario ingresar 100 números enteros y luego calcule la \n",
    "media de esos valores. (Nota: puedes probar el programa con una cantidad menor, pero debe \n",
    "poder procesar 100 números cambiando solo un valor). "
   ]
  },
  {
   "cell_type": "code",
   "execution_count": null,
   "id": "f37ab855",
   "metadata": {},
   "outputs": [
    {
     "name": "stdout",
     "output_type": "stream",
     "text": [
      "La media de los numeros ingresados es: 5.5\n"
     ]
    }
   ],
   "source": [
    "suma = 0\n",
    "for i in range(0,100):\n",
    "    num_usuario = int(input('Ingrese un número'))\n",
    "    suma += num_usuario\n",
    "\n",
    "media = suma / 100\n",
    "\n",
    "print(f'La media de los numeros ingresados es: {media}')"
   ]
  },
  {
   "cell_type": "markdown",
   "id": "7fa55d98",
   "metadata": {},
   "source": [
    "10) Escribe un programa que invierta el orden de los dígitos de un número ingresado por el \n",
    "usuario. Ejemplo: si el usuario ingresa 547, el programa debe mostrar 745. "
   ]
  },
  {
   "cell_type": "code",
   "execution_count": 30,
   "id": "30f91557",
   "metadata": {},
   "outputs": [
    {
     "name": "stdout",
     "output_type": "stream",
     "text": [
      "543\n"
     ]
    }
   ],
   "source": [
    "num_usuario = input('ingrese un usuario')\n",
    "\n",
    "nuevo_num = ''\n",
    "\n",
    "for i in range(len(num_usuario) -1, -1, -1):\n",
    "    nuevo_num += num_usuario[i]\n",
    "\n",
    "print(nuevo_num)"
   ]
  }
 ],
 "metadata": {
  "kernelspec": {
   "display_name": "Python 3",
   "language": "python",
   "name": "python3"
  },
  "language_info": {
   "codemirror_mode": {
    "name": "ipython",
    "version": 3
   },
   "file_extension": ".py",
   "mimetype": "text/x-python",
   "name": "python",
   "nbconvert_exporter": "python",
   "pygments_lexer": "ipython3",
   "version": "3.12.2"
  }
 },
 "nbformat": 4,
 "nbformat_minor": 5
}
