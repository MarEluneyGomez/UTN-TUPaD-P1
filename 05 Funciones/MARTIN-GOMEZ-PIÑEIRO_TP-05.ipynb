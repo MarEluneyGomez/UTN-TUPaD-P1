{
 "cells": [
  {
   "cell_type": "markdown",
   "id": "28bf5981",
   "metadata": {},
   "source": [
    "1. Crear una función llamada imprimir_hola_mundo que imprima por pantalla el mensaje: “Hola Mundo!”. Llamar a esta función desde el programa principal."
   ]
  },
  {
   "cell_type": "code",
   "execution_count": 2,
   "id": "8e2f53d6",
   "metadata": {},
   "outputs": [
    {
     "name": "stdout",
     "output_type": "stream",
     "text": [
      "Hola Mundo!\n"
     ]
    }
   ],
   "source": [
    "def imprimir_hola_mundo():\n",
    "    return print('Hola Mundo!')\n",
    "\n",
    "imprimir_hola_mundo()"
   ]
  },
  {
   "cell_type": "markdown",
   "id": "ef871203",
   "metadata": {},
   "source": [
    "2. Crear una función llamada saludar_usuario(nombre) que reciba como parámetro un nombre y devuelva un saludo personalizado.\n",
    "Por ejemplo, si se llama con saludar_usuario(\"Marcos\"), deberá de volver: “Hola Marcos!”. Llamar a esta función desde el programa principal solicitando el nombre al usuario."
   ]
  },
  {
   "cell_type": "code",
   "execution_count": 3,
   "id": "1aa7ccc0",
   "metadata": {},
   "outputs": [
    {
     "name": "stdout",
     "output_type": "stream",
     "text": [
      "Hola Macos!\n"
     ]
    }
   ],
   "source": [
    "def saludar_usuario(nombre):\n",
    "    return print(f'Hola {nombre}!')\n",
    "\n",
    "saludar_usuario('Macos')"
   ]
  },
  {
   "cell_type": "markdown",
   "id": "3e457636",
   "metadata": {},
   "source": [
    " 3. Crear una función llamada informacion_personal(nombre, apellido, edad, residencia) que reciba cuatro parámetros e imprima: “Soy [nombre] [apellido], tengo [edad] años y vivo en [residencia]”. Pedir los datos al usuario y llamar a esta función con los valores ingresados."
   ]
  },
  {
   "cell_type": "code",
   "execution_count": 4,
   "id": "dcff667c",
   "metadata": {},
   "outputs": [
    {
     "name": "stdout",
     "output_type": "stream",
     "text": [
      "Soy Martin Eluney Gomez Piñeiro, tengo 24 años y vivo en Argentina.\n"
     ]
    }
   ],
   "source": [
    "def informacion_personal(nombre,apellido,edad,residencia):\n",
    "    return print(f'Soy {nombre} {apellido}, tengo {edad} años y vivo en {residencia}.')\n",
    "\n",
    "nombre = input('Por favor ingrese su nombre')\n",
    "apellido = input('Por favor ingrese su apellido')\n",
    "edad = input('Por favor ingrese su edad')\n",
    "residencia = input('Por favor ingrese su lugar de residdencia')\n",
    "\n",
    "informacion_personal(nombre,apellido,edad,residencia)"
   ]
  },
  {
   "cell_type": "markdown",
   "id": "2bb2ee81",
   "metadata": {},
   "source": [
    "4. Crear dos funciones: calcular_area_circulo(radio) que reciba el radio como parámetro y devuelva el área del círculo. calcular_perimetro_circulo(radio) que reciba el radio como parámetro y devuelva el perímetro del círculo. Solicitar el radio al usuario y llamar ambas funciones para mostrar los resultados."
   ]
  },
  {
   "cell_type": "code",
   "execution_count": 7,
   "id": "a1597de1",
   "metadata": {},
   "outputs": [
    {
     "name": "stdout",
     "output_type": "stream",
     "text": [
      "El area de su circulo es: 50.26548245743669, y su perimetro: 25.132741228718345\n"
     ]
    }
   ],
   "source": [
    "from math import pi\n",
    "def Calcular_area_circulo(radio):\n",
    "    area = pi * (radio**2)\n",
    "    return area\n",
    "\n",
    "def calcular_perimetro_circulo(radio):\n",
    "    perimetro = 2 * pi * radio\n",
    "    return perimetro\n",
    "\n",
    "radio = float(input('Por favor ingrese el radio de su circulo'))\n",
    "\n",
    "area = Calcular_area_circulo(radio)\n",
    "perimetro = calcular_perimetro_circulo(radio)\n",
    "\n",
    "print(f'El area de su circulo es: {area}, y su perimetro: {perimetro}')"
   ]
  },
  {
   "cell_type": "markdown",
   "id": "78759517",
   "metadata": {},
   "source": [
    "5. Crear una función llamada segundos_a_horas(segundos) que reciba una cantidad de segundos como parámetro y devuelva la cantidad de horas correspondientes. Solicitar al usuario los segundos y mostrar el resultado usando esta función."
   ]
  },
  {
   "cell_type": "code",
   "execution_count": 9,
   "id": "fed47b56",
   "metadata": {},
   "outputs": [
    {
     "name": "stdout",
     "output_type": "stream",
     "text": [
      "12000s es equivalente a 3.3333333333333335h\n"
     ]
    }
   ],
   "source": [
    "def segundo_a_hora(segundos):\n",
    "    return (segundos / 60) / 60\n",
    "\n",
    "segundos = int(input('Ingrese los segundos que desea calcular'))\n",
    "\n",
    "horas = segundo_a_hora(segundos)\n",
    "\n",
    "print(f'{segundos}s es equivalente a {horas}h')\n"
   ]
  },
  {
   "cell_type": "markdown",
   "id": "428817e1",
   "metadata": {},
   "source": [
    " 6. Crear una función llamada tabla_multiplicar(numero) que reciba un número como parámetro y imprima la tabla de multiplicar de ese número del 1 al 10. Pedir al usuario el número y llamar a la función."
   ]
  },
  {
   "cell_type": "code",
   "execution_count": null,
   "id": "854bc457",
   "metadata": {},
   "outputs": [
    {
     "name": "stdout",
     "output_type": "stream",
     "text": [
      "5 x 1 = 5\n",
      "5 x 2 = 10\n",
      "5 x 3 = 15\n",
      "5 x 4 = 20\n",
      "5 x 5 = 25\n",
      "5 x 6 = 30\n",
      "5 x 7 = 35\n",
      "5 x 8 = 40\n",
      "5 x 9 = 45\n",
      "5 x 10 = 50\n"
     ]
    }
   ],
   "source": [
    "def tabla_multiplicar(numero):\n",
    "    for i in range(1,11):\n",
    "        multiplicacion = i * numero\n",
    "                \n",
    "        print(f'{numero} x {i} = {multiplicacion}')\n",
    "    return\n",
    "\n",
    "numero = int(input('Ingrese el número a calcular'))\n",
    "\n",
    "tabla_multiplicar(numero)"
   ]
  },
  {
   "cell_type": "markdown",
   "id": "00516617",
   "metadata": {},
   "source": [
    "7. Crear una función llamada operaciones_basicas(a, b) que reciba dos números como parámetros y devuelva una tupla con el resultado de sumarlos, restarlos, multiplicarlos y dividirlos. Mostrar los resultados de forma clara."
   ]
  },
  {
   "cell_type": "code",
   "execution_count": null,
   "id": "b806c49c",
   "metadata": {},
   "outputs": [
    {
     "name": "stdout",
     "output_type": "stream",
     "text": [
      "('suma:11', 'a - b = -3', ' b - a 3', 'a x b = 28', 'a / b = 0.5714285714285714', 'b / a = 1.75')\n"
     ]
    }
   ],
   "source": [
    "def operaciones_basicas(a,b):\n",
    "\n",
    "    suma = a + b\n",
    "    resta_a_b = a - b\n",
    "    resta_b_a = b - a\n",
    "    multi = a * b\n",
    "\n",
    "    if b != 0:\n",
    "        div_a_b = a / b\n",
    "    else:\n",
    "        div_a_b = 'No se pudo dividir'\n",
    " \n",
    "    if a != 0:\n",
    "        div_b_a = b / a\n",
    "    else:\n",
    "        div_b_a = 'No se pudo dividir'\n",
    "\n",
    "    resultados = (\n",
    "        f'suma:{suma}',\n",
    "        f'a - b = {resta_a_b}',\n",
    "        f' b - a {resta_b_a}',\n",
    "        f'a x b = {multi}',\n",
    "        f'a / b = {div_a_b}',\n",
    "        f'b / a = {div_b_a}'\n",
    "    )\n",
    "\n",
    "    return print(resultados)\n",
    "\n",
    "a = int(input('Ingrse un número'))\n",
    "b = int(input('Ingrse otro número'))\n",
    "\n",
    "operaciones_basicas(a,b)\n",
    "\n"
   ]
  },
  {
   "cell_type": "markdown",
   "id": "de8901f4",
   "metadata": {},
   "source": [
    "8. Crear una función llamada calcular_imc(peso, altura) que reciba el peso en kilogramos y la altura en metros, y devuelva el índice de masa corporal (IMC). Solicitar al usuario los datos y llamar a la función para mostrar el resultado con dos decimales."
   ]
  },
  {
   "cell_type": "code",
   "execution_count": 16,
   "id": "a5642f31",
   "metadata": {},
   "outputs": [
    {
     "data": {
      "text/plain": [
       "203.63850000000002"
      ]
     },
     "execution_count": 16,
     "metadata": {},
     "output_type": "execute_result"
    }
   ],
   "source": [
    "def calcular_imc(peso, altura):\n",
    "    return peso * (altura**2)\n",
    "\n",
    "peso = float(input('Porfavor ingrese su peso'))\n",
    "altura = float(input('Porfavor ingrese su altura'))\n",
    "\n",
    "calcular_imc(peso,altura)"
   ]
  },
  {
   "cell_type": "markdown",
   "id": "b3801755",
   "metadata": {},
   "source": [
    "9. Crear una función llamada celsius_a_fahrenheit(celsius) que reciba una temperatura en grados Celsius y devuelva su equivalente en Fahrenheit. Pedir al usuario la temperatura en Celsius y mostrar el resultado usando la función."
   ]
  },
  {
   "cell_type": "code",
   "execution_count": 17,
   "id": "bc405523",
   "metadata": {},
   "outputs": [
    {
     "data": {
      "text/plain": [
       "89.6"
      ]
     },
     "execution_count": 17,
     "metadata": {},
     "output_type": "execute_result"
    }
   ],
   "source": [
    "def celcius_a_farenheit(celcius):\n",
    "    return (celcius * 9/5) + 32\n",
    "\n",
    "celcius = float(input('Ingrese los grados celcius a calculra'))\n",
    "\n",
    "celcius_a_farenheit(celcius)"
   ]
  },
  {
   "cell_type": "markdown",
   "id": "6658fa8d",
   "metadata": {},
   "source": [
    "10.Crear una función llamada calcular_promedio(a, b, c) que reciba tres números como parámetros y devuelva el promedio de ellos. Solicitar los números al usuario y mostrar el resultado usando esta función."
   ]
  },
  {
   "cell_type": "code",
   "execution_count": 18,
   "id": "f4e9ba72",
   "metadata": {},
   "outputs": [
    {
     "data": {
      "text/plain": [
       "25.0"
      ]
     },
     "execution_count": 18,
     "metadata": {},
     "output_type": "execute_result"
    }
   ],
   "source": [
    "def calcular_promedio(a,b,c):\n",
    "    return (a + b + c) / 3 \n",
    "\n",
    "a = int(input('Ingrse un número'))\n",
    "b = int(input('Ingrse otro número'))\n",
    "c = int(input('Ingrse otro número más'))\n",
    "\n",
    "calcular_promedio(a,b,c)"
   ]
  }
 ],
 "metadata": {
  "kernelspec": {
   "display_name": "base",
   "language": "python",
   "name": "python3"
  },
  "language_info": {
   "codemirror_mode": {
    "name": "ipython",
    "version": 3
   },
   "file_extension": ".py",
   "mimetype": "text/x-python",
   "name": "python",
   "nbconvert_exporter": "python",
   "pygments_lexer": "ipython3",
   "version": "3.12.7"
  }
 },
 "nbformat": 4,
 "nbformat_minor": 5
}
