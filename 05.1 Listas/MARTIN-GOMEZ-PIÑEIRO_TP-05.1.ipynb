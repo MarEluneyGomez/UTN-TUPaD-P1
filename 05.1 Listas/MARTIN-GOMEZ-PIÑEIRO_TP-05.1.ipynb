{
 "cells": [
  {
   "cell_type": "markdown",
   "id": "7d476ef6",
   "metadata": {},
   "source": [
    "1) Crear una lista con los números del 1 al 100 que sean múltiplos de 4. Utilizar la función \n",
    "range."
   ]
  },
  {
   "cell_type": "code",
   "execution_count": null,
   "id": "bfa00eb6",
   "metadata": {},
   "outputs": [],
   "source": [
    "lista = []\n",
    "for i in range(101):\n",
    "    if (i % 4) == 0:\n",
    "        lista.append(i)\n",
    "\n",
    "lista"
   ]
  },
  {
   "cell_type": "markdown",
   "id": "7264001c",
   "metadata": {},
   "source": [
    "2) Crear una lista con cinco elementos (colocar los elementos que más te gusten) y mostrar el \n",
    "penúltimo. ¡Puedes hacerlo como se muestra en los videos o bien investigar cómo funciona el \n",
    "indexing con números negativos! "
   ]
  },
  {
   "cell_type": "code",
   "execution_count": 4,
   "id": "f11405d4",
   "metadata": {},
   "outputs": [
    {
     "name": "stdout",
     "output_type": "stream",
     "text": [
      "4\n"
     ]
    }
   ],
   "source": [
    "lista = list(range(0,5))\n",
    "\n",
    "print(lista[-1])"
   ]
  },
  {
   "cell_type": "markdown",
   "id": "57643b3d",
   "metadata": {},
   "source": [
    "3) Crear una lista vacía, agregar tres palabras con append e imprimir la lista resultante por \n",
    "pantalla. Pista: para crear una lista vacía debes colocar los corchetes sin nada en su interior. Por \n",
    "ejemplo: \n",
    "\n",
    "lista_vacia = [] "
   ]
  },
  {
   "cell_type": "code",
   "execution_count": 11,
   "id": "2d99c88b",
   "metadata": {},
   "outputs": [
    {
     "data": {
      "text/plain": [
       "['hola', 'ola', 'bola']"
      ]
     },
     "execution_count": 11,
     "metadata": {},
     "output_type": "execute_result"
    }
   ],
   "source": [
    "lista = []\n",
    "\n",
    "\n",
    "lista.append('hola')\n",
    "lista.append('ola')\n",
    "lista.append('bola')\n",
    "lista"
   ]
  },
  {
   "cell_type": "markdown",
   "id": "532cee92",
   "metadata": {},
   "source": [
    "4) Reemplazar el segundo y último valor de la lista “animales” con las palabras “loro” y “oso”, \n",
    "respectivamente.  Imprimir la lista resultante por pantalla. ¡Puedes hacerlo como se muestra \n",
    "en los videos o bien investigar cómo funciona el indexing con números negativos! \n",
    "\n",
    "animales = [\"perro\", \"gato\", \"conejo\", \"pez\"] "
   ]
  },
  {
   "cell_type": "code",
   "execution_count": 13,
   "id": "dcb7917b",
   "metadata": {},
   "outputs": [
    {
     "data": {
      "text/plain": [
       "['perro', 'loro', 'conejo', 'oso']"
      ]
     },
     "execution_count": 13,
     "metadata": {},
     "output_type": "execute_result"
    }
   ],
   "source": [
    "animales = [\"perro\", \"gato\", \"conejo\", \"pez\"] \n",
    "\n",
    "animales[1] = 'loro'\n",
    "\n",
    "animales[3] = 'oso'\n",
    "\n",
    "animales"
   ]
  },
  {
   "attachments": {
    "image.png": {
     "image/png": "[encoded data removed]"
    }
   },
   "cell_type": "markdown",
   "id": "20e24a4e",
   "metadata": {},
   "source": [
    "5) Analizar el siguiente programa y explicar con tus palabras qué es lo que realiza. \n",
    "\n",
    "![image.png](attachment:image.png)"
   ]
  },
  {
   "cell_type": "code",
   "execution_count": null,
   "id": "ac9e6833",
   "metadata": {},
   "outputs": [],
   "source": [
    "#el programa busca el valor más alto almacenado en la lista 'numeros' y lo remueve de la lista"
   ]
  },
  {
   "cell_type": "markdown",
   "id": "877f4bdb",
   "metadata": {},
   "source": [
    "6) Crear una lista con números del 10 al 30 (incluído), haciendo saltos de 5 en 5 y mostrar por \n",
    "pantalla los dos primeros."
   ]
  },
  {
   "cell_type": "code",
   "execution_count": 17,
   "id": "092ef944",
   "metadata": {},
   "outputs": [
    {
     "data": {
      "text/plain": [
       "[10, 15]"
      ]
     },
     "execution_count": 17,
     "metadata": {},
     "output_type": "execute_result"
    }
   ],
   "source": [
    "lista = list(range(10, 31, 5))\n",
    "lista[:2]"
   ]
  },
  {
   "cell_type": "markdown",
   "id": "f8289e59",
   "metadata": {},
   "source": [
    "7) Reemplazar los dos valores centrales (índices 1 y 2) de la lista “autos” por dos nuevos valores \n",
    "cualesquiera. \n",
    "\n",
    "autos = [\"sedan\", \"polo\", \"suran\", \"gol\"]"
   ]
  },
  {
   "cell_type": "code",
   "execution_count": 18,
   "id": "a1d50ec6",
   "metadata": {},
   "outputs": [
    {
     "data": {
      "text/plain": [
       "['sedan', 'chevrolete', 'peugeot', 'gol']"
      ]
     },
     "execution_count": 18,
     "metadata": {},
     "output_type": "execute_result"
    }
   ],
   "source": [
    "autos = [\"sedan\", \"polo\", \"suran\", \"gol\"]\n",
    "\n",
    "autos[1] = 'chevrolete'\n",
    "autos[2] = 'peugeot'\n",
    "\n",
    "autos"
   ]
  },
  {
   "cell_type": "markdown",
   "id": "33a1984a",
   "metadata": {},
   "source": [
    "8) Crear una lista vacía llamada \"dobles\" y agregar el doble de 5, 10 y 15 usando append \n",
    "directamente. Imprimir la lista resultante por pantalla."
   ]
  },
  {
   "cell_type": "code",
   "execution_count": 19,
   "id": "d40a90cc",
   "metadata": {},
   "outputs": [
    {
     "data": {
      "text/plain": [
       "[10, 20, 30]"
      ]
     },
     "execution_count": 19,
     "metadata": {},
     "output_type": "execute_result"
    }
   ],
   "source": [
    "dobles = []\n",
    "dobles.append(5*2)\n",
    "dobles.append(10*2)\n",
    "dobles.append(15*2)\n",
    "dobles"
   ]
  },
  {
   "cell_type": "markdown",
   "id": "a17ad8a9",
   "metadata": {},
   "source": [
    "9) Dada la lista “compras”, cuyos elementos representan los productos comprados por \n",
    "diferentes clientes: \n",
    "\n",
    "compras = [[\"pan\", \"leche\"], [\"arroz\", \"fideos\", \"salsa\"], \n",
    "[\"agua\"]] \n",
    "\n",
    "a) Agregar \"jugo\" a la lista del tercer cliente usando append. \n",
    "\n",
    "b) Reemplazar \"fideos\" por \"tallarines\" en la lista del segundo cliente. \n",
    "\n",
    "c) Eliminar \"pan\" de la lista del primer cliente.  \n",
    "\n",
    "d) Imprimir la lista resultante por pantalla"
   ]
  },
  {
   "cell_type": "code",
   "execution_count": 30,
   "id": "49797a87",
   "metadata": {},
   "outputs": [
    {
     "name": "stdout",
     "output_type": "stream",
     "text": [
      "[['leche'], ['arroz', 'tallarines', 'salsa'], ['agua', 'jugo']]\n"
     ]
    }
   ],
   "source": [
    "compras = [[\"pan\", \"leche\"], [\"arroz\", \"fideos\", \"salsa\"],[\"agua\"]]\n",
    "compras[2].append(\"jugo\")\n",
    "compras[1][1] = \"tallarines\"\n",
    "compras[0].remove(\"pan\")\n",
    "print(compras)"
   ]
  },
  {
   "cell_type": "markdown",
   "id": "2fddc3da",
   "metadata": {},
   "source": [
    "10) Elaborar una lista anidada llamada “lista_anidada” que contenga los siguientes elementos: \n",
    "\n",
    "● Posición lista_anidada[0]: 15 \n",
    "\n",
    "● Posición lista_anidada[1]: True \n",
    "\n",
    "● Posición lista_anidada[2][0]: 25.5 \n",
    "\n",
    "● Posición lista_anidada[2][1]: 57.9 \n",
    "\n",
    "● Posición lista_anidada[2][2]: 30.6 \n",
    "\n",
    "● Posición lista_anidada[3]: False \n",
    "\n",
    "Imprimir la lista resultante por pantalla. "
   ]
  },
  {
   "cell_type": "code",
   "execution_count": 33,
   "id": "0eaaa1dd",
   "metadata": {},
   "outputs": [
    {
     "name": "stdout",
     "output_type": "stream",
     "text": [
      "[15, True, [25.5, 57.9, 30.6], False]\n"
     ]
    }
   ],
   "source": [
    "lista_anidada = []\n",
    "lista_anidada.append(15)\n",
    "lista_anidada.append(True)\n",
    "\n",
    "sublista = []\n",
    "sublista.append(25.5)\n",
    "sublista.append(57.9)\n",
    "sublista.append(30.6)\n",
    "\n",
    "lista_anidada.append(sublista)\n",
    "lista_anidada.append(False)\n",
    "\n",
    "print(lista_anidada)"
   ]
  }
 ],
 "metadata": {
  "kernelspec": {
   "display_name": "Python 3",
   "language": "python",
   "name": "python3"
  },
  "language_info": {
   "codemirror_mode": {
    "name": "ipython",
    "version": 3
   },
   "file_extension": ".py",
   "mimetype": "text/x-python",
   "name": "python",
   "nbconvert_exporter": "python",
   "pygments_lexer": "ipython3",
   "version": "3.12.2"
  }
 },
 "nbformat": 4,
 "nbformat_minor": 5
}
